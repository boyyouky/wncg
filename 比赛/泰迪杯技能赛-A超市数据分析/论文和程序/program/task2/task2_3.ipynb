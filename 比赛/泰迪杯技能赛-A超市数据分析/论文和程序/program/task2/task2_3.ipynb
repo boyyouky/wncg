{
 "cells": [
  {
   "cell_type": "code",
   "execution_count": 65,
   "metadata": {},
   "outputs": [],
   "source": [
    "import pandas as pd\n",
    "import numpy as np\n",
    "from matplotlib import pyplot as plt\n",
    "import seaborn as sns\n",
    "import pyecharts\n",
    "import matplotlib as mpl"
   ]
  },
  {
   "cell_type": "code",
   "execution_count": 66,
   "metadata": {},
   "outputs": [],
   "source": [
    "data = pd.read_csv(\"task2_3.csv\",encoding='gbk')"
   ]
  },
  {
   "cell_type": "code",
   "execution_count": 74,
   "metadata": {},
   "outputs": [
    {
     "data": {
      "text/html": [
       "<div>\n",
       "<style scoped>\n",
       "    .dataframe tbody tr th:only-of-type {\n",
       "        vertical-align: middle;\n",
       "    }\n",
       "\n",
       "    .dataframe tbody tr th {\n",
       "        vertical-align: top;\n",
       "    }\n",
       "\n",
       "    .dataframe thead th {\n",
       "        text-align: right;\n",
       "    }\n",
       "</style>\n",
       "<table border=\"1\" class=\"dataframe\">\n",
       "  <thead>\n",
       "    <tr style=\"text-align: right;\">\n",
       "      <th></th>\n",
       "      <th>Unnamed: 0</th>\n",
       "      <th>周数</th>\n",
       "      <th>促销商品销售额</th>\n",
       "      <th>非促销商品销售额</th>\n",
       "    </tr>\n",
       "  </thead>\n",
       "  <tbody>\n",
       "    <tr>\n",
       "      <th>0</th>\n",
       "      <td>0</td>\n",
       "      <td>1</td>\n",
       "      <td>4318.69</td>\n",
       "      <td>19779.90</td>\n",
       "    </tr>\n",
       "    <tr>\n",
       "      <th>1</th>\n",
       "      <td>1</td>\n",
       "      <td>2</td>\n",
       "      <td>5097.48</td>\n",
       "      <td>19500.62</td>\n",
       "    </tr>\n",
       "    <tr>\n",
       "      <th>2</th>\n",
       "      <td>2</td>\n",
       "      <td>3</td>\n",
       "      <td>4911.99</td>\n",
       "      <td>22538.72</td>\n",
       "    </tr>\n",
       "    <tr>\n",
       "      <th>3</th>\n",
       "      <td>3</td>\n",
       "      <td>4</td>\n",
       "      <td>6623.89</td>\n",
       "      <td>24067.89</td>\n",
       "    </tr>\n",
       "    <tr>\n",
       "      <th>4</th>\n",
       "      <td>4</td>\n",
       "      <td>5</td>\n",
       "      <td>8045.72</td>\n",
       "      <td>26219.32</td>\n",
       "    </tr>\n",
       "    <tr>\n",
       "      <th>5</th>\n",
       "      <td>5</td>\n",
       "      <td>6</td>\n",
       "      <td>14024.51</td>\n",
       "      <td>22595.57</td>\n",
       "    </tr>\n",
       "    <tr>\n",
       "      <th>6</th>\n",
       "      <td>6</td>\n",
       "      <td>7</td>\n",
       "      <td>21030.89</td>\n",
       "      <td>34117.78</td>\n",
       "    </tr>\n",
       "    <tr>\n",
       "      <th>7</th>\n",
       "      <td>7</td>\n",
       "      <td>8</td>\n",
       "      <td>4056.55</td>\n",
       "      <td>13142.71</td>\n",
       "    </tr>\n",
       "    <tr>\n",
       "      <th>8</th>\n",
       "      <td>8</td>\n",
       "      <td>9</td>\n",
       "      <td>3296.38</td>\n",
       "      <td>15856.70</td>\n",
       "    </tr>\n",
       "    <tr>\n",
       "      <th>9</th>\n",
       "      <td>9</td>\n",
       "      <td>10</td>\n",
       "      <td>4401.47</td>\n",
       "      <td>16968.60</td>\n",
       "    </tr>\n",
       "    <tr>\n",
       "      <th>10</th>\n",
       "      <td>10</td>\n",
       "      <td>11</td>\n",
       "      <td>3672.90</td>\n",
       "      <td>19840.01</td>\n",
       "    </tr>\n",
       "    <tr>\n",
       "      <th>11</th>\n",
       "      <td>11</td>\n",
       "      <td>12</td>\n",
       "      <td>5177.28</td>\n",
       "      <td>17395.34</td>\n",
       "    </tr>\n",
       "    <tr>\n",
       "      <th>12</th>\n",
       "      <td>12</td>\n",
       "      <td>13</td>\n",
       "      <td>3505.76</td>\n",
       "      <td>15324.78</td>\n",
       "    </tr>\n",
       "    <tr>\n",
       "      <th>13</th>\n",
       "      <td>13</td>\n",
       "      <td>14</td>\n",
       "      <td>4051.14</td>\n",
       "      <td>20911.56</td>\n",
       "    </tr>\n",
       "    <tr>\n",
       "      <th>14</th>\n",
       "      <td>14</td>\n",
       "      <td>15</td>\n",
       "      <td>4229.99</td>\n",
       "      <td>17062.04</td>\n",
       "    </tr>\n",
       "    <tr>\n",
       "      <th>15</th>\n",
       "      <td>15</td>\n",
       "      <td>16</td>\n",
       "      <td>5535.65</td>\n",
       "      <td>18030.77</td>\n",
       "    </tr>\n",
       "    <tr>\n",
       "      <th>16</th>\n",
       "      <td>16</td>\n",
       "      <td>17</td>\n",
       "      <td>5837.68</td>\n",
       "      <td>19634.88</td>\n",
       "    </tr>\n",
       "  </tbody>\n",
       "</table>\n",
       "</div>"
      ],
      "text/plain": [
       "    Unnamed: 0  周数   促销商品销售额  非促销商品销售额\n",
       "0            0   1   4318.69  19779.90\n",
       "1            1   2   5097.48  19500.62\n",
       "2            2   3   4911.99  22538.72\n",
       "3            3   4   6623.89  24067.89\n",
       "4            4   5   8045.72  26219.32\n",
       "5            5   6  14024.51  22595.57\n",
       "6            6   7  21030.89  34117.78\n",
       "7            7   8   4056.55  13142.71\n",
       "8            8   9   3296.38  15856.70\n",
       "9            9  10   4401.47  16968.60\n",
       "10          10  11   3672.90  19840.01\n",
       "11          11  12   5177.28  17395.34\n",
       "12          12  13   3505.76  15324.78\n",
       "13          13  14   4051.14  20911.56\n",
       "14          14  15   4229.99  17062.04\n",
       "15          15  16   5535.65  18030.77\n",
       "16          16  17   5837.68  19634.88"
      ]
     },
     "execution_count": 74,
     "metadata": {},
     "output_type": "execute_result"
    }
   ],
   "source": [
    "data"
   ]
  },
  {
   "cell_type": "code",
   "execution_count": 68,
   "metadata": {},
   "outputs": [],
   "source": [
    "week = []\n",
    "for i in range(0,16):\n",
    "    week.append(i)"
   ]
  },
  {
   "cell_type": "code",
   "execution_count": 69,
   "metadata": {},
   "outputs": [],
   "source": [
    "week = pd.Series(week)"
   ]
  },
  {
   "cell_type": "code",
   "execution_count": 76,
   "metadata": {},
   "outputs": [
    {
     "data": {
      "text/plain": [
       "0      4318.69\n",
       "1      5097.48\n",
       "2      4911.99\n",
       "3      6623.89\n",
       "4      8045.72\n",
       "5     14024.51\n",
       "6     21030.89\n",
       "7      4056.55\n",
       "8      3296.38\n",
       "9      4401.47\n",
       "10     3672.90\n",
       "11     5177.28\n",
       "12     3505.76\n",
       "13     4051.14\n",
       "14     4229.99\n",
       "15     5535.65\n",
       "16     5837.68\n",
       "Name: 促销商品销售额, dtype: float64"
      ]
     },
     "execution_count": 76,
     "metadata": {},
     "output_type": "execute_result"
    }
   ],
   "source": [
    "data_cx = data['促销商品销售额']\n",
    "data_cx"
   ]
  },
  {
   "cell_type": "code",
   "execution_count": 77,
   "metadata": {},
   "outputs": [
    {
     "data": {
      "text/plain": [
       "0      4318.69\n",
       "1      5097.48\n",
       "2      4911.99\n",
       "3      6623.89\n",
       "4      8045.72\n",
       "5     14024.51\n",
       "6     21030.89\n",
       "7      4056.55\n",
       "8      3296.38\n",
       "9      4401.47\n",
       "10     3672.90\n",
       "11     5177.28\n",
       "12     3505.76\n",
       "13     4051.14\n",
       "14     4229.99\n",
       "15     5535.65\n",
       "16     5837.68\n",
       "Name: 促销商品销售额, dtype: float64"
      ]
     },
     "execution_count": 77,
     "metadata": {},
     "output_type": "execute_result"
    }
   ],
   "source": [
    "data_cx = pd.Series(data_cx)\n",
    "data_cx"
   ]
  },
  {
   "cell_type": "code",
   "execution_count": 78,
   "metadata": {},
   "outputs": [],
   "source": [
    "zzl_cx = []\n",
    "for i in range(1,len(data_cx)):\n",
    "    zzl = (data_cx[i]-data_cx[i-1])/data_cx[i]\n",
    "    zzl_cx.append(zzl)\n",
    "    "
   ]
  },
  {
   "cell_type": "code",
   "execution_count": 79,
   "metadata": {},
   "outputs": [
    {
     "data": {
      "text/plain": [
       "[0.1527794125724868,\n",
       " -0.03776269902829602,\n",
       " 0.25844330144371364,\n",
       " 0.17671880204630536,\n",
       " 0.4263100814217395,\n",
       " 0.333147099338164,\n",
       " -4.184427654040995,\n",
       " -0.23060751491029555,\n",
       " 0.25107293699604905,\n",
       " -0.19836369081652105,\n",
       " 0.2905734285184498,\n",
       " -0.47679247866368474,\n",
       " 0.13462383427874614,\n",
       " 0.04228142383315325,\n",
       " 0.23586390035497184,\n",
       " 0.05173801921311217]"
      ]
     },
     "execution_count": 79,
     "metadata": {},
     "output_type": "execute_result"
    }
   ],
   "source": [
    "zzl_cx"
   ]
  },
  {
   "cell_type": "code",
   "execution_count": 80,
   "metadata": {},
   "outputs": [],
   "source": [
    "data_wcx = data['非促销商品销售额']"
   ]
  },
  {
   "cell_type": "code",
   "execution_count": 81,
   "metadata": {},
   "outputs": [
    {
     "data": {
      "text/plain": [
       "0     19779.90\n",
       "1     19500.62\n",
       "2     22538.72\n",
       "3     24067.89\n",
       "4     26219.32\n",
       "5     22595.57\n",
       "6     34117.78\n",
       "7     13142.71\n",
       "8     15856.70\n",
       "9     16968.60\n",
       "10    19840.01\n",
       "11    17395.34\n",
       "12    15324.78\n",
       "13    20911.56\n",
       "14    17062.04\n",
       "15    18030.77\n",
       "16    19634.88\n",
       "Name: 非促销商品销售额, dtype: float64"
      ]
     },
     "execution_count": 81,
     "metadata": {},
     "output_type": "execute_result"
    }
   ],
   "source": [
    "data_wcx = pd.Series(data_wcx)\n",
    "data_wcx"
   ]
  },
  {
   "cell_type": "code",
   "execution_count": 82,
   "metadata": {},
   "outputs": [],
   "source": [
    "zzl_wcx = []\n",
    "for i in range(1,len(data_wcx)):\n",
    "    zzl = (data_wcx[i]-data_wcx[i-1])/data_wcx[i]\n",
    "    zzl_wcx.append(zzl)"
   ]
  },
  {
   "cell_type": "code",
   "execution_count": 83,
   "metadata": {},
   "outputs": [
    {
     "data": {
      "text/plain": [
       "[-0.014321595928744957,\n",
       " 0.1347946999652155,\n",
       " 0.06353569008334334,\n",
       " 0.08205514101815,\n",
       " -0.1603743565663535,\n",
       " 0.33771863233774296,\n",
       " -1.5959471067991307,\n",
       " 0.17115730259133372,\n",
       " 0.06552691441839621,\n",
       " 0.14472825366519473,\n",
       " -0.14053591364123943,\n",
       " -0.13511189067640772,\n",
       " 0.2671622777066847,\n",
       " -0.22561897639438191,\n",
       " 0.05372649088197562,\n",
       " 0.08169695969621411]"
      ]
     },
     "execution_count": 83,
     "metadata": {},
     "output_type": "execute_result"
    }
   ],
   "source": [
    "zzl_wcx"
   ]
  },
  {
   "cell_type": "code",
   "execution_count": 84,
   "metadata": {},
   "outputs": [
    {
     "data": {
      "text/plain": [
       "Text(0.5, 1.0, '促销商品销售金额的周环比增长率柱状图')"
      ]
     },
     "execution_count": 84,
     "metadata": {},
     "output_type": "execute_result"
    },
    {
     "data": {
      "image/png": "[encoded data removed]",
      "text/plain": [
       "<Figure size 1200x640 with 1 Axes>"
      ]
     },
     "metadata": {
      "needs_background": "light"
     },
     "output_type": "display_data"
    }
   ],
   "source": [
    "plt.figure(figsize=(15,8),dpi=80)\n",
    "mpl.rcParams['font.sans-serif'] = ['KaiTi']\n",
    "plt.xticks(fontsize=20,rotation=90)\n",
    "plt.yticks(fontsize=20)\n",
    "plt.rcParams['axes.unicode_minus'] = False \n",
    "plt.rcParams.update({\"font.size\":20})\n",
    "plt.bar(week,zzl_cx,color=['red','blue','yellow','green'])\n",
    "plt.title('促销商品销售金额的周环比增长率柱状图')"
   ]
  },
  {
   "cell_type": "code",
   "execution_count": 85,
   "metadata": {},
   "outputs": [
    {
     "data": {
      "text/plain": [
       "Text(0.5, 1.0, '非促销商品销售金额的周环比增长率柱状图')"
      ]
     },
     "execution_count": 85,
     "metadata": {},
     "output_type": "execute_result"
    },
    {
     "data": {
      "image/png": "[encoded data removed]",
      "text/plain": [
       "<Figure size 1200x640 with 1 Axes>"
      ]
     },
     "metadata": {
      "needs_background": "light"
     },
     "output_type": "display_data"
    }
   ],
   "source": [
    "plt.figure(figsize=(15,8),dpi=80)\n",
    "mpl.rcParams['font.sans-serif'] = ['KaiTi']\n",
    "plt.xticks(fontsize=20,rotation=90)\n",
    "plt.yticks(fontsize=20)\n",
    "plt.rcParams['axes.unicode_minus'] = False \n",
    "plt.rcParams.update({\"font.size\":20})\n",
    "plt.bar(week,zzl_wcx,color=['red','blue','yellow','green'])\n",
    "plt.title('非促销商品销售金额的周环比增长率柱状图')"
   ]
  }
 ],
 "metadata": {
  "kernelspec": {
   "display_name": "Python 3",
   "language": "python",
   "name": "python3"
  },
  "language_info": {
   "codemirror_mode": {
    "name": "ipython",
    "version": 3
   },
   "file_extension": ".py",
   "mimetype": "text/x-python",
   "name": "python",
   "nbconvert_exporter": "python",
   "pygments_lexer": "ipython3",
   "version": "3.7.1"
  }
 },
 "nbformat": 4,
 "nbformat_minor": 2
}
